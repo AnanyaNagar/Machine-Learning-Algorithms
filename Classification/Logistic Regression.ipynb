{
 "cells": [
  {
   "cell_type": "code",
   "execution_count": 11,
   "metadata": {},
   "outputs": [],
   "source": [
    "import numpy as np\n",
    "import pandas as pd\n",
    "import matplotlib.pyplot as plt\n",
    "from sklearn.model_selection import train_test_split"
   ]
  },
  {
   "cell_type": "code",
   "execution_count": 12,
   "metadata": {},
   "outputs": [],
   "source": [
    "class LogisticRegression:\n",
    "    def __init__(self, iters = 20, lr = 0.01):\n",
    "        self.iters = iters\n",
    "        self.lr = lr\n",
    "        \n",
    "    def fit(self, X, y):\n",
    "        \n",
    "        temp = np.ones((X.shape[0], 1))\n",
    "        X = np.hstack((temp, X))\n",
    "        \n",
    "        m = X.shape[0]\n",
    "        n = X.shape[1]\n",
    "        \n",
    "        self.theta = np.random.randn(n, 1)\n",
    "        cost = []\n",
    "        \n",
    "        for iteration in range(self.iters):\n",
    "            \n",
    "            #modify the parameters\n",
    "            for row in range(m):\n",
    "                \n",
    "                decision_bound = np.dot(X[row].reshape(1, -1), self.theta)\n",
    "                \n",
    "                \n",
    "                sigmoid = 1 / (1 + np.e ** -decision_bound[0])\n",
    "                \n",
    "                for f_no in range(n):\n",
    "                    \n",
    "                    self.theta[f_no] -= self.lr * X[row][f_no] * (sigmoid - y[row]) / m\n",
    "                    \n",
    "            #calculate the cost   \n",
    "            error = 0\n",
    "            for row in range(m):\n",
    "                decision_bound = np.dot(X[row].reshape(1, -1), self.theta)\n",
    "                sigmoid = 1 // (1 + np.e ** -decision_bound[0])\n",
    "                error += y[row] * np.log(sigmoid) + (1 - y[row]) * np.log(1-sigmoid)\n",
    "                \n",
    "            cost.append(-error // m)\n",
    "        \n",
    "        print(\"Model Fitted!\")           \n",
    "            \n",
    "        \n",
    "    def predict(self, X):\n",
    "        temp = np.ones((X.shape[0], 1))\n",
    "        X = np.hstack((temp, X))\n",
    "        \n",
    "        result = []\n",
    "        for row in range(X.shape[0]):\n",
    "            t = np.dot(X[row], self.theta)\n",
    "            sigmoid = 1 / (1 + np.e ** -t)\n",
    "            result.append(1 if sigmoid > 0.5 else 0)\n",
    "        \n",
    "            \n",
    "        result = np.array(result)\n",
    "        return result\n",
    "    \n",
    "    \n",
    "    def accuracy(self, X, y):\n",
    "        result = self.predict(X)\n",
    "        \n",
    "        score = 0\n",
    "        \n",
    "        for i in range(len(result)):\n",
    "            if result[i] == int(y[i]):\n",
    "                score += 1\n",
    "                \n",
    "                \n",
    "        return score / len(result)\n",
    "            "
   ]
  },
  {
   "cell_type": "code",
   "execution_count": 13,
   "metadata": {},
   "outputs": [
    {
     "data": {
      "text/html": [
       "<div>\n",
       "<style scoped>\n",
       "    .dataframe tbody tr th:only-of-type {\n",
       "        vertical-align: middle;\n",
       "    }\n",
       "\n",
       "    .dataframe tbody tr th {\n",
       "        vertical-align: top;\n",
       "    }\n",
       "\n",
       "    .dataframe thead th {\n",
       "        text-align: right;\n",
       "    }\n",
       "</style>\n",
       "<table border=\"1\" class=\"dataframe\">\n",
       "  <thead>\n",
       "    <tr style=\"text-align: right;\">\n",
       "      <th></th>\n",
       "      <th>age</th>\n",
       "      <th>interest</th>\n",
       "      <th>success</th>\n",
       "    </tr>\n",
       "  </thead>\n",
       "  <tbody>\n",
       "    <tr>\n",
       "      <th>0</th>\n",
       "      <td>23.657801</td>\n",
       "      <td>18.859917</td>\n",
       "      <td>0.0</td>\n",
       "    </tr>\n",
       "    <tr>\n",
       "      <th>1</th>\n",
       "      <td>22.573729</td>\n",
       "      <td>17.969223</td>\n",
       "      <td>0.0</td>\n",
       "    </tr>\n",
       "    <tr>\n",
       "      <th>2</th>\n",
       "      <td>32.553424</td>\n",
       "      <td>29.463651</td>\n",
       "      <td>0.0</td>\n",
       "    </tr>\n",
       "    <tr>\n",
       "      <th>3</th>\n",
       "      <td>6.718035</td>\n",
       "      <td>25.704665</td>\n",
       "      <td>1.0</td>\n",
       "    </tr>\n",
       "    <tr>\n",
       "      <th>4</th>\n",
       "      <td>14.401919</td>\n",
       "      <td>16.770856</td>\n",
       "      <td>0.0</td>\n",
       "    </tr>\n",
       "  </tbody>\n",
       "</table>\n",
       "</div>"
      ],
      "text/plain": [
       "         age   interest  success\n",
       "0  23.657801  18.859917      0.0\n",
       "1  22.573729  17.969223      0.0\n",
       "2  32.553424  29.463651      0.0\n",
       "3   6.718035  25.704665      1.0\n",
       "4  14.401919  16.770856      0.0"
      ]
     },
     "execution_count": 13,
     "metadata": {},
     "output_type": "execute_result"
    }
   ],
   "source": [
    "df = pd.read_csv(\"classification.csv\")\n",
    "df.head()"
   ]
  },
  {
   "cell_type": "code",
   "execution_count": 14,
   "metadata": {},
   "outputs": [
    {
     "data": {
      "text/plain": [
       "<matplotlib.collections.PathCollection at 0x200ebf8ed90>"
      ]
     },
     "execution_count": 14,
     "metadata": {},
     "output_type": "execute_result"
    },
    {
     "data": {
      "image/png": "[encoded data removed]",
      "text/plain": [
       "<Figure size 432x288 with 1 Axes>"
      ]
     },
     "metadata": {
      "needs_background": "light"
     },
     "output_type": "display_data"
    }
   ],
   "source": [
    "X = np.array(df.drop([\"success\"], axis = 1))\n",
    "y = np.array(df[\"success\"], dtype = np.int32)\n",
    "\n",
    "plt.scatter(X[:, 0], X[:, 1], c = y)"
   ]
  },
  {
   "cell_type": "code",
   "execution_count": 15,
   "metadata": {},
   "outputs": [
    {
     "name": "stdout",
     "output_type": "stream",
     "text": [
      "Model Fitted!\n"
     ]
    },
    {
     "name": "stderr",
     "output_type": "stream",
     "text": [
      "<ipython-input-12-d58e5e166ffd>:36: RuntimeWarning: divide by zero encountered in log\n",
      "  error += y[row] * np.log(sigmoid) + (1 - y[row]) * np.log(1-sigmoid)\n",
      "<ipython-input-12-d58e5e166ffd>:36: RuntimeWarning: invalid value encountered in multiply\n",
      "  error += y[row] * np.log(sigmoid) + (1 - y[row]) * np.log(1-sigmoid)\n",
      "<ipython-input-12-d58e5e166ffd>:38: RuntimeWarning: invalid value encountered in floor_divide\n",
      "  cost.append(-error // m)\n"
     ]
    }
   ],
   "source": [
    "X_train, X_test, y_train, y_test = train_test_split(X, y, test_size=0.33, random_state=42)\n",
    "\n",
    "model = LogisticRegression()\n",
    "\n",
    "model.fit(X_train, y_train)"
   ]
  },
  {
   "cell_type": "code",
   "execution_count": 16,
   "metadata": {},
   "outputs": [
    {
     "data": {
      "text/plain": [
       "array([0, 1, 1, 1, 0, 1, 1, 1, 1, 1])"
      ]
     },
     "execution_count": 16,
     "metadata": {},
     "output_type": "execute_result"
    }
   ],
   "source": [
    "model.predict(X_test[:10])"
   ]
  },
  {
   "cell_type": "code",
   "execution_count": 17,
   "metadata": {},
   "outputs": [
    {
     "data": {
      "text/plain": [
       "array([0, 1, 1, 1, 0, 1, 1, 1, 1, 1])"
      ]
     },
     "execution_count": 17,
     "metadata": {},
     "output_type": "execute_result"
    }
   ],
   "source": [
    "y_test[:10]"
   ]
  },
  {
   "cell_type": "code",
   "execution_count": 18,
   "metadata": {},
   "outputs": [
    {
     "data": {
      "text/plain": [
       "0.8686868686868687"
      ]
     },
     "execution_count": 18,
     "metadata": {},
     "output_type": "execute_result"
    }
   ],
   "source": [
    "model.accuracy(X_test, y_test)"
   ]
  },
  {
   "cell_type": "code",
   "execution_count": 19,
   "metadata": {},
   "outputs": [
    {
     "data": {
      "text/plain": [
       "0.8080808080808081"
      ]
     },
     "execution_count": 19,
     "metadata": {},
     "output_type": "execute_result"
    }
   ],
   "source": [
    "model.accuracy(X_train, y_train)"
   ]
  },
  {
   "cell_type": "code",
   "execution_count": 20,
   "metadata": {},
   "outputs": [
    {
     "data": {
      "text/plain": [
       "array([[-1.26026329],\n",
       "       [-0.04702635],\n",
       "       [ 0.06498391]])"
      ]
     },
     "execution_count": 20,
     "metadata": {},
     "output_type": "execute_result"
    }
   ],
   "source": [
    "model.theta"
   ]
  },
  {
   "cell_type": "code",
   "execution_count": null,
   "metadata": {},
   "outputs": [],
   "source": []
  }
 ],
 "metadata": {
  "kernelspec": {
   "display_name": "Python 3",
   "language": "python",
   "name": "python3"
  },
  "language_info": {
   "codemirror_mode": {
    "name": "ipython",
    "version": 3
   },
   "file_extension": ".py",
   "mimetype": "text/x-python",
   "name": "python",
   "nbconvert_exporter": "python",
   "pygments_lexer": "ipython3",
   "version": "3.8.3"
  }
 },
 "nbformat": 4,
 "nbformat_minor": 4
}
